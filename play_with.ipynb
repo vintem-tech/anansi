{
 "cells": [
  {
   "cell_type": "code",
   "execution_count": null,
   "metadata": {},
   "outputs": [],
   "source": []
  },
  {
   "cell_type": "code",
   "execution_count": null,
   "metadata": {},
   "outputs": [],
   "source": []
  },
  {
   "cell_type": "markdown",
   "metadata": {},
   "source": [
    "## anansi_.marketdata.klines"
   ]
  },
  {
   "cell_type": "code",
   "execution_count": 1,
   "metadata": {},
   "outputs": [],
   "source": [
    "from anansi_.marketdata.klines import klines_getter\n",
    "from anansi_.marketdata.models import Market"
   ]
  },
  {
   "cell_type": "code",
   "execution_count": 2,
   "metadata": {},
   "outputs": [],
   "source": [
    "my_market = Market(broker_name=\"Binance\", ticker_symbol=\"BTCUSDT\")\n",
    "\n",
    "\n",
    "my_klines_getter = klines_getter(my_market)#, time_frame=\"6h\")"
   ]
  },
  {
   "cell_type": "code",
   "execution_count": 3,
   "metadata": {},
   "outputs": [],
   "source": [
    "my_klines = my_klines_getter.newest(100)"
   ]
  },
  {
   "cell_type": "code",
   "execution_count": null,
   "metadata": {},
   "outputs": [],
   "source": [
    "my_klines.apply_indicator.trend.price_from_kline()"
   ]
  },
  {
   "cell_type": "code",
   "execution_count": null,
   "metadata": {},
   "outputs": [],
   "source": [
    "class SetupSMA:\n",
    "    price_metrics = \"hlc3\"\n",
    "    number_samples = 20\n",
    "\n",
    "my_setup = SetupSMA()\n",
    "\n",
    "my_klines.apply_indicator.trend.simple_moving_average(my_setup)"
   ]
  },
  {
   "cell_type": "code",
   "execution_count": 4,
   "metadata": {},
   "outputs": [
    {
     "data": {
      "text/html": [
       "<div>\n",
       "<style scoped>\n",
       "    .dataframe tbody tr th:only-of-type {\n",
       "        vertical-align: middle;\n",
       "    }\n",
       "\n",
       "    .dataframe tbody tr th {\n",
       "        vertical-align: top;\n",
       "    }\n",
       "\n",
       "    .dataframe thead th {\n",
       "        text-align: right;\n",
       "    }\n",
       "</style>\n",
       "<table border=\"1\" class=\"dataframe\">\n",
       "  <thead>\n",
       "    <tr style=\"text-align: right;\">\n",
       "      <th></th>\n",
       "      <th>Open_time</th>\n",
       "      <th>Open</th>\n",
       "      <th>High</th>\n",
       "      <th>Low</th>\n",
       "      <th>Close</th>\n",
       "      <th>Volume</th>\n",
       "    </tr>\n",
       "  </thead>\n",
       "  <tbody>\n",
       "    <tr>\n",
       "      <th>1</th>\n",
       "      <td>2020-11-25 14:36:00</td>\n",
       "      <td>19183.54</td>\n",
       "      <td>19187.00</td>\n",
       "      <td>19163.40</td>\n",
       "      <td>19170.42</td>\n",
       "      <td>55.786067</td>\n",
       "    </tr>\n",
       "    <tr>\n",
       "      <th>2</th>\n",
       "      <td>2020-11-25 14:37:00</td>\n",
       "      <td>19170.41</td>\n",
       "      <td>19188.88</td>\n",
       "      <td>19170.41</td>\n",
       "      <td>19186.25</td>\n",
       "      <td>55.992697</td>\n",
       "    </tr>\n",
       "    <tr>\n",
       "      <th>3</th>\n",
       "      <td>2020-11-25 14:38:00</td>\n",
       "      <td>19185.75</td>\n",
       "      <td>19200.00</td>\n",
       "      <td>19181.07</td>\n",
       "      <td>19200.00</td>\n",
       "      <td>71.436440</td>\n",
       "    </tr>\n",
       "    <tr>\n",
       "      <th>4</th>\n",
       "      <td>2020-11-25 14:39:00</td>\n",
       "      <td>19200.00</td>\n",
       "      <td>19212.10</td>\n",
       "      <td>19199.09</td>\n",
       "      <td>19205.00</td>\n",
       "      <td>70.187918</td>\n",
       "    </tr>\n",
       "    <tr>\n",
       "      <th>5</th>\n",
       "      <td>2020-11-25 14:40:00</td>\n",
       "      <td>19205.00</td>\n",
       "      <td>19220.00</td>\n",
       "      <td>19200.00</td>\n",
       "      <td>19211.52</td>\n",
       "      <td>86.483567</td>\n",
       "    </tr>\n",
       "    <tr>\n",
       "      <th>...</th>\n",
       "      <td>...</td>\n",
       "      <td>...</td>\n",
       "      <td>...</td>\n",
       "      <td>...</td>\n",
       "      <td>...</td>\n",
       "      <td>...</td>\n",
       "    </tr>\n",
       "    <tr>\n",
       "      <th>96</th>\n",
       "      <td>2020-11-25 16:11:00</td>\n",
       "      <td>19166.54</td>\n",
       "      <td>19183.84</td>\n",
       "      <td>19164.03</td>\n",
       "      <td>19171.25</td>\n",
       "      <td>64.247077</td>\n",
       "    </tr>\n",
       "    <tr>\n",
       "      <th>97</th>\n",
       "      <td>2020-11-25 16:12:00</td>\n",
       "      <td>19171.25</td>\n",
       "      <td>19183.38</td>\n",
       "      <td>19169.99</td>\n",
       "      <td>19178.13</td>\n",
       "      <td>70.333961</td>\n",
       "    </tr>\n",
       "    <tr>\n",
       "      <th>98</th>\n",
       "      <td>2020-11-25 16:13:00</td>\n",
       "      <td>19178.13</td>\n",
       "      <td>19178.13</td>\n",
       "      <td>19135.46</td>\n",
       "      <td>19143.74</td>\n",
       "      <td>65.933844</td>\n",
       "    </tr>\n",
       "    <tr>\n",
       "      <th>99</th>\n",
       "      <td>2020-11-25 16:14:00</td>\n",
       "      <td>19143.74</td>\n",
       "      <td>19147.00</td>\n",
       "      <td>19100.00</td>\n",
       "      <td>19110.54</td>\n",
       "      <td>77.213724</td>\n",
       "    </tr>\n",
       "    <tr>\n",
       "      <th>100</th>\n",
       "      <td>2020-11-25 16:15:00</td>\n",
       "      <td>19110.78</td>\n",
       "      <td>19128.63</td>\n",
       "      <td>19086.80</td>\n",
       "      <td>19088.81</td>\n",
       "      <td>85.282629</td>\n",
       "    </tr>\n",
       "  </tbody>\n",
       "</table>\n",
       "<p>100 rows × 6 columns</p>\n",
       "</div>"
      ],
      "text/plain": [
       "               Open_time      Open      High       Low     Close     Volume\n",
       "1    2020-11-25 14:36:00  19183.54  19187.00  19163.40  19170.42  55.786067\n",
       "2    2020-11-25 14:37:00  19170.41  19188.88  19170.41  19186.25  55.992697\n",
       "3    2020-11-25 14:38:00  19185.75  19200.00  19181.07  19200.00  71.436440\n",
       "4    2020-11-25 14:39:00  19200.00  19212.10  19199.09  19205.00  70.187918\n",
       "5    2020-11-25 14:40:00  19205.00  19220.00  19200.00  19211.52  86.483567\n",
       "..                   ...       ...       ...       ...       ...        ...\n",
       "96   2020-11-25 16:11:00  19166.54  19183.84  19164.03  19171.25  64.247077\n",
       "97   2020-11-25 16:12:00  19171.25  19183.38  19169.99  19178.13  70.333961\n",
       "98   2020-11-25 16:13:00  19178.13  19178.13  19135.46  19143.74  65.933844\n",
       "99   2020-11-25 16:14:00  19143.74  19147.00  19100.00  19110.54  77.213724\n",
       "100  2020-11-25 16:15:00  19110.78  19128.63  19086.80  19088.81  85.282629\n",
       "\n",
       "[100 rows x 6 columns]"
      ]
     },
     "execution_count": 4,
     "metadata": {},
     "output_type": "execute_result"
    }
   ],
   "source": [
    "my_klines"
   ]
  },
  {
   "cell_type": "code",
   "execution_count": null,
   "metadata": {},
   "outputs": [],
   "source": []
  },
  {
   "cell_type": "code",
   "execution_count": null,
   "metadata": {},
   "outputs": [],
   "source": []
  },
  {
   "cell_type": "code",
   "execution_count": null,
   "metadata": {},
   "outputs": [],
   "source": []
  },
  {
   "cell_type": "code",
   "execution_count": null,
   "metadata": {},
   "outputs": [],
   "source": [
    "my_market.broker_name"
   ]
  },
  {
   "cell_type": "code",
   "execution_count": null,
   "metadata": {},
   "outputs": [],
   "source": []
  },
  {
   "cell_type": "code",
   "execution_count": null,
   "metadata": {},
   "outputs": [],
   "source": []
  },
  {
   "cell_type": "code",
   "execution_count": null,
   "metadata": {},
   "outputs": [],
   "source": []
  },
  {
   "cell_type": "code",
   "execution_count": null,
   "metadata": {},
   "outputs": [],
   "source": []
  },
  {
   "cell_type": "markdown",
   "metadata": {},
   "source": [
    "## anansi_.marketdata.brokers\n",
    "\n",
    "###  Exemplo com a Binance"
   ]
  },
  {
   "cell_type": "code",
   "execution_count": null,
   "metadata": {},
   "outputs": [],
   "source": [
    "from anansi_.marketdata.brokers import Binance\n",
    "\n",
    "my_broker = Binance()"
   ]
  },
  {
   "cell_type": "markdown",
   "metadata": {},
   "source": [
    "### Alguns atributos da exchange/broker"
   ]
  },
  {
   "cell_type": "code",
   "execution_count": null,
   "metadata": {},
   "outputs": [],
   "source": [
    "my_broker.base_endpoint, my_broker.DateTimeFmt, my_broker.DateTimeUnit"
   ]
  },
  {
   "cell_type": "markdown",
   "metadata": {},
   "source": [
    "### Verificando horário do servidor com broker.server_time()"
   ]
  },
  {
   "cell_type": "code",
   "execution_count": null,
   "metadata": {},
   "outputs": [],
   "source": [
    "import pendulum # Só para gerar o formato 'human readable', para exemplo\n",
    "\n",
    "server_time = dict(server_time_timestamp=my_broker.server_time(),\n",
    "                   server_time_human_readable=(\n",
    "                       pendulum.from_timestamp(my_broker.server_time()).to_datetime_string()\n",
    "                   )\n",
    "                  )\n",
    "\n",
    "server_time"
   ]
  },
  {
   "cell_type": "markdown",
   "metadata": {},
   "source": [
    "### Verificando se o limite de requests foi atingido"
   ]
  },
  {
   "cell_type": "code",
   "execution_count": null,
   "metadata": {},
   "outputs": [],
   "source": [
    "my_broker.was_request_limit_reached()"
   ]
  },
  {
   "cell_type": "markdown",
   "metadata": {},
   "source": [
    "### Finalmente, solicitando algumas klines"
   ]
  },
  {
   "cell_type": "code",
   "execution_count": null,
   "metadata": {
    "scrolled": true
   },
   "outputs": [],
   "source": [
    "my_klines = my_broker.get_klines(ticker_symbol=\"BTCUSDT\", time_frame=\"2h\")\n",
    "\n",
    "my_klines"
   ]
  },
  {
   "cell_type": "markdown",
   "metadata": {},
   "source": [
    "### Função get_broker\n",
    "\n",
    "É possível repetir todos os passos acima, desde que haja suporte para o broker (passado para a função 'get_broker' pelo parâmetro 'broker_name') instanciando um broker como mostrado abaixo (novamente tomando a binance como exemplo):"
   ]
  },
  {
   "cell_type": "code",
   "execution_count": null,
   "metadata": {},
   "outputs": [],
   "source": [
    "from anansi_.marketdata.brokers import get_broker\n",
    "\n",
    "my_broker = get_broker(broker_name=\"binance\")"
   ]
  },
  {
   "cell_type": "markdown",
   "metadata": {},
   "source": [
    "Testando com as klines; esteja livre para repetir os passos anteriores :)"
   ]
  },
  {
   "cell_type": "code",
   "execution_count": null,
   "metadata": {},
   "outputs": [],
   "source": [
    "my_klines = my_broker.get_klines(ticker_symbol=\"BTCUSDT\", time_frame=\"2h\")\n",
    "\n",
    "my_klines"
   ]
  },
  {
   "cell_type": "code",
   "execution_count": null,
   "metadata": {},
   "outputs": [],
   "source": [
    "type(my_klines)"
   ]
  },
  {
   "cell_type": "code",
   "execution_count": null,
   "metadata": {},
   "outputs": [],
   "source": []
  },
  {
   "cell_type": "code",
   "execution_count": null,
   "metadata": {},
   "outputs": [],
   "source": []
  },
  {
   "cell_type": "code",
   "execution_count": null,
   "metadata": {},
   "outputs": [],
   "source": []
  },
  {
   "cell_type": "code",
   "execution_count": null,
   "metadata": {},
   "outputs": [],
   "source": []
  },
  {
   "cell_type": "code",
   "execution_count": null,
   "metadata": {},
   "outputs": [],
   "source": []
  },
  {
   "cell_type": "code",
   "execution_count": null,
   "metadata": {},
   "outputs": [],
   "source": []
  },
  {
   "cell_type": "code",
   "execution_count": null,
   "metadata": {},
   "outputs": [],
   "source": []
  },
  {
   "cell_type": "code",
   "execution_count": null,
   "metadata": {},
   "outputs": [],
   "source": []
  }
 ],
 "metadata": {
  "kernelspec": {
   "display_name": "anansi_",
   "language": "python",
   "name": "anansi_"
  },
  "language_info": {
   "codemirror_mode": {
    "name": "ipython",
    "version": 3
   },
   "file_extension": ".py",
   "mimetype": "text/x-python",
   "name": "python",
   "nbconvert_exporter": "python",
   "pygments_lexer": "ipython3",
   "version": "3.8.6"
  }
 },
 "nbformat": 4,
 "nbformat_minor": 4
}
