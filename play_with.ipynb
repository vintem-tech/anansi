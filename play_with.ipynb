{
 "cells": [
  {
   "cell_type": "code",
   "execution_count": null,
   "metadata": {},
   "outputs": [],
   "source": []
  },
  {
   "cell_type": "code",
   "execution_count": null,
   "metadata": {},
   "outputs": [],
   "source": []
  },
  {
   "cell_type": "markdown",
   "metadata": {},
   "source": [
    "## anansi_.marketdata.klines"
   ]
  },
  {
   "cell_type": "code",
   "execution_count": 1,
   "metadata": {},
   "outputs": [],
   "source": [
    "from anansi_.marketdata.klines import klines_getter\n",
    "from anansi_.marketdata.models import Market"
   ]
  },
  {
   "cell_type": "code",
   "execution_count": 2,
   "metadata": {},
   "outputs": [],
   "source": [
    "my_market = Market(broker_name=\"Binance\", ticker_symbol=\"BTCUSDT\", time_frame=\"2h\")\n",
    "\n",
    "\n",
    "my_klines_getter = klines_getter(my_market)"
   ]
  },
  {
   "cell_type": "code",
   "execution_count": 3,
   "metadata": {},
   "outputs": [],
   "source": [
    "my_klines = my_klines_getter.newest(100)"
   ]
  },
  {
   "cell_type": "code",
   "execution_count": 4,
   "metadata": {},
   "outputs": [],
   "source": [
    "my_klines.apply_indicator.trend.price_from_kline()"
   ]
  },
  {
   "cell_type": "code",
   "execution_count": 5,
   "metadata": {},
   "outputs": [],
   "source": [
    "class SetupSMA:\n",
    "    price_metrics = \"hlc3\"\n",
    "    number_samples = 20\n",
    "\n",
    "my_setup = SetupSMA()\n",
    "\n",
    "my_klines.apply_indicator.trend.simple_moving_average(my_setup)"
   ]
  },
  {
   "cell_type": "code",
   "execution_count": 6,
   "metadata": {},
   "outputs": [
    {
     "data": {
      "text/html": [
       "<div>\n",
       "<style scoped>\n",
       "    .dataframe tbody tr th:only-of-type {\n",
       "        vertical-align: middle;\n",
       "    }\n",
       "\n",
       "    .dataframe tbody tr th {\n",
       "        vertical-align: top;\n",
       "    }\n",
       "\n",
       "    .dataframe thead th {\n",
       "        text-align: right;\n",
       "    }\n",
       "</style>\n",
       "<table border=\"1\" class=\"dataframe\">\n",
       "  <thead>\n",
       "    <tr style=\"text-align: right;\">\n",
       "      <th></th>\n",
       "      <th>Open_time</th>\n",
       "      <th>Open</th>\n",
       "      <th>High</th>\n",
       "      <th>Low</th>\n",
       "      <th>Close</th>\n",
       "      <th>Volume</th>\n",
       "      <th>Price</th>\n",
       "      <th>SMA_20</th>\n",
       "    </tr>\n",
       "  </thead>\n",
       "  <tbody>\n",
       "    <tr>\n",
       "      <th>0</th>\n",
       "      <td>2020-11-11 18:00:00</td>\n",
       "      <td>15865.47</td>\n",
       "      <td>15965.00</td>\n",
       "      <td>15702.00</td>\n",
       "      <td>15807.58</td>\n",
       "      <td>8660.506952</td>\n",
       "      <td>15824.860000</td>\n",
       "      <td>NaN</td>\n",
       "    </tr>\n",
       "    <tr>\n",
       "      <th>1</th>\n",
       "      <td>2020-11-11 20:00:00</td>\n",
       "      <td>15807.58</td>\n",
       "      <td>15827.67</td>\n",
       "      <td>15576.04</td>\n",
       "      <td>15813.63</td>\n",
       "      <td>6910.500486</td>\n",
       "      <td>15739.113333</td>\n",
       "      <td>NaN</td>\n",
       "    </tr>\n",
       "    <tr>\n",
       "      <th>2</th>\n",
       "      <td>2020-11-11 22:00:00</td>\n",
       "      <td>15813.64</td>\n",
       "      <td>15886.00</td>\n",
       "      <td>15672.64</td>\n",
       "      <td>15684.24</td>\n",
       "      <td>4418.660676</td>\n",
       "      <td>15747.626667</td>\n",
       "      <td>NaN</td>\n",
       "    </tr>\n",
       "    <tr>\n",
       "      <th>3</th>\n",
       "      <td>2020-11-12 00:00:00</td>\n",
       "      <td>15684.25</td>\n",
       "      <td>15711.77</td>\n",
       "      <td>15440.64</td>\n",
       "      <td>15639.84</td>\n",
       "      <td>7881.387032</td>\n",
       "      <td>15597.416667</td>\n",
       "      <td>NaN</td>\n",
       "    </tr>\n",
       "    <tr>\n",
       "      <th>4</th>\n",
       "      <td>2020-11-12 02:00:00</td>\n",
       "      <td>15639.50</td>\n",
       "      <td>15686.20</td>\n",
       "      <td>15591.40</td>\n",
       "      <td>15628.14</td>\n",
       "      <td>3746.634661</td>\n",
       "      <td>15635.246667</td>\n",
       "      <td>NaN</td>\n",
       "    </tr>\n",
       "    <tr>\n",
       "      <th>...</th>\n",
       "      <td>...</td>\n",
       "      <td>...</td>\n",
       "      <td>...</td>\n",
       "      <td>...</td>\n",
       "      <td>...</td>\n",
       "      <td>...</td>\n",
       "      <td>...</td>\n",
       "      <td>...</td>\n",
       "    </tr>\n",
       "    <tr>\n",
       "      <th>95</th>\n",
       "      <td>2020-11-19 16:00:00</td>\n",
       "      <td>18045.01</td>\n",
       "      <td>18119.98</td>\n",
       "      <td>17882.36</td>\n",
       "      <td>17969.40</td>\n",
       "      <td>7841.391784</td>\n",
       "      <td>17990.580000</td>\n",
       "      <td>17839.091500</td>\n",
       "    </tr>\n",
       "    <tr>\n",
       "      <th>96</th>\n",
       "      <td>2020-11-19 18:00:00</td>\n",
       "      <td>17969.29</td>\n",
       "      <td>18033.57</td>\n",
       "      <td>17869.76</td>\n",
       "      <td>17955.80</td>\n",
       "      <td>5057.036773</td>\n",
       "      <td>17953.043333</td>\n",
       "      <td>17841.389500</td>\n",
       "    </tr>\n",
       "    <tr>\n",
       "      <th>97</th>\n",
       "      <td>2020-11-19 20:00:00</td>\n",
       "      <td>17955.79</td>\n",
       "      <td>18100.00</td>\n",
       "      <td>17871.64</td>\n",
       "      <td>17928.48</td>\n",
       "      <td>5415.809018</td>\n",
       "      <td>17966.706667</td>\n",
       "      <td>17851.145333</td>\n",
       "    </tr>\n",
       "    <tr>\n",
       "      <th>98</th>\n",
       "      <td>2020-11-19 22:00:00</td>\n",
       "      <td>17928.55</td>\n",
       "      <td>17951.95</td>\n",
       "      <td>17681.36</td>\n",
       "      <td>17802.82</td>\n",
       "      <td>6500.726111</td>\n",
       "      <td>17812.043333</td>\n",
       "      <td>17847.457500</td>\n",
       "    </tr>\n",
       "    <tr>\n",
       "      <th>99</th>\n",
       "      <td>2020-11-20 00:00:00</td>\n",
       "      <td>17802.81</td>\n",
       "      <td>17967.49</td>\n",
       "      <td>17740.04</td>\n",
       "      <td>17960.39</td>\n",
       "      <td>5186.412205</td>\n",
       "      <td>17889.306667</td>\n",
       "      <td>17838.206000</td>\n",
       "    </tr>\n",
       "  </tbody>\n",
       "</table>\n",
       "<p>100 rows × 8 columns</p>\n",
       "</div>"
      ],
      "text/plain": [
       "              Open_time      Open      High       Low     Close       Volume  \\\n",
       "0   2020-11-11 18:00:00  15865.47  15965.00  15702.00  15807.58  8660.506952   \n",
       "1   2020-11-11 20:00:00  15807.58  15827.67  15576.04  15813.63  6910.500486   \n",
       "2   2020-11-11 22:00:00  15813.64  15886.00  15672.64  15684.24  4418.660676   \n",
       "3   2020-11-12 00:00:00  15684.25  15711.77  15440.64  15639.84  7881.387032   \n",
       "4   2020-11-12 02:00:00  15639.50  15686.20  15591.40  15628.14  3746.634661   \n",
       "..                  ...       ...       ...       ...       ...          ...   \n",
       "95  2020-11-19 16:00:00  18045.01  18119.98  17882.36  17969.40  7841.391784   \n",
       "96  2020-11-19 18:00:00  17969.29  18033.57  17869.76  17955.80  5057.036773   \n",
       "97  2020-11-19 20:00:00  17955.79  18100.00  17871.64  17928.48  5415.809018   \n",
       "98  2020-11-19 22:00:00  17928.55  17951.95  17681.36  17802.82  6500.726111   \n",
       "99  2020-11-20 00:00:00  17802.81  17967.49  17740.04  17960.39  5186.412205   \n",
       "\n",
       "           Price        SMA_20  \n",
       "0   15824.860000           NaN  \n",
       "1   15739.113333           NaN  \n",
       "2   15747.626667           NaN  \n",
       "3   15597.416667           NaN  \n",
       "4   15635.246667           NaN  \n",
       "..           ...           ...  \n",
       "95  17990.580000  17839.091500  \n",
       "96  17953.043333  17841.389500  \n",
       "97  17966.706667  17851.145333  \n",
       "98  17812.043333  17847.457500  \n",
       "99  17889.306667  17838.206000  \n",
       "\n",
       "[100 rows x 8 columns]"
      ]
     },
     "execution_count": 6,
     "metadata": {},
     "output_type": "execute_result"
    }
   ],
   "source": [
    "my_klines"
   ]
  },
  {
   "cell_type": "code",
   "execution_count": null,
   "metadata": {},
   "outputs": [],
   "source": []
  },
  {
   "cell_type": "code",
   "execution_count": null,
   "metadata": {},
   "outputs": [],
   "source": []
  },
  {
   "cell_type": "code",
   "execution_count": null,
   "metadata": {},
   "outputs": [],
   "source": []
  },
  {
   "cell_type": "code",
   "execution_count": null,
   "metadata": {},
   "outputs": [],
   "source": [
    "my_market.broker_name"
   ]
  },
  {
   "cell_type": "code",
   "execution_count": null,
   "metadata": {},
   "outputs": [],
   "source": []
  },
  {
   "cell_type": "code",
   "execution_count": null,
   "metadata": {},
   "outputs": [],
   "source": []
  },
  {
   "cell_type": "code",
   "execution_count": null,
   "metadata": {},
   "outputs": [],
   "source": []
  },
  {
   "cell_type": "code",
   "execution_count": null,
   "metadata": {},
   "outputs": [],
   "source": []
  },
  {
   "cell_type": "markdown",
   "metadata": {},
   "source": [
    "## anansi_.marketdata.brokers\n",
    "\n",
    "###  Exemplo com a Binance"
   ]
  },
  {
   "cell_type": "code",
   "execution_count": null,
   "metadata": {},
   "outputs": [],
   "source": [
    "from anansi_.marketdata.brokers import Binance\n",
    "\n",
    "my_broker = Binance()"
   ]
  },
  {
   "cell_type": "markdown",
   "metadata": {},
   "source": [
    "### Alguns atributos da exchange/broker"
   ]
  },
  {
   "cell_type": "code",
   "execution_count": null,
   "metadata": {},
   "outputs": [],
   "source": [
    "my_broker.base_endpoint, my_broker.DateTimeFmt, my_broker.DateTimeUnit"
   ]
  },
  {
   "cell_type": "markdown",
   "metadata": {},
   "source": [
    "### Verificando horário do servidor com broker.server_time()"
   ]
  },
  {
   "cell_type": "code",
   "execution_count": null,
   "metadata": {},
   "outputs": [],
   "source": [
    "import pendulum # Só para gerar o formato 'human readable', para exemplo\n",
    "\n",
    "server_time = dict(server_time_timestamp=my_broker.server_time(),\n",
    "                   server_time_human_readable=(\n",
    "                       pendulum.from_timestamp(my_broker.server_time()).to_datetime_string()\n",
    "                   )\n",
    "                  )\n",
    "\n",
    "server_time"
   ]
  },
  {
   "cell_type": "markdown",
   "metadata": {},
   "source": [
    "### Verificando se o limite de requests foi atingido"
   ]
  },
  {
   "cell_type": "code",
   "execution_count": null,
   "metadata": {},
   "outputs": [],
   "source": [
    "my_broker.was_request_limit_reached()"
   ]
  },
  {
   "cell_type": "markdown",
   "metadata": {},
   "source": [
    "### Finalmente, solicitando algumas klines"
   ]
  },
  {
   "cell_type": "code",
   "execution_count": null,
   "metadata": {
    "scrolled": true
   },
   "outputs": [],
   "source": [
    "my_klines = my_broker.get_klines(ticker_symbol=\"BTCUSDT\", time_frame=\"2h\")\n",
    "\n",
    "my_klines"
   ]
  },
  {
   "cell_type": "markdown",
   "metadata": {},
   "source": [
    "### Função get_broker\n",
    "\n",
    "É possível repetir todos os passos acima, desde que haja suporte para o broker (passado para a função 'get_broker' pelo parâmetro 'broker_name') instanciando um broker como mostrado abaixo (novamente tomando a binance como exemplo):"
   ]
  },
  {
   "cell_type": "code",
   "execution_count": null,
   "metadata": {},
   "outputs": [],
   "source": [
    "from anansi_.marketdata.brokers import get_broker\n",
    "\n",
    "my_broker = get_broker(broker_name=\"binance\")"
   ]
  },
  {
   "cell_type": "markdown",
   "metadata": {},
   "source": [
    "Testando com as klines; esteja livre para repetir os passos anteriores :)"
   ]
  },
  {
   "cell_type": "code",
   "execution_count": null,
   "metadata": {},
   "outputs": [],
   "source": [
    "my_klines = my_broker.get_klines(ticker_symbol=\"BTCUSDT\", time_frame=\"2h\")\n",
    "\n",
    "my_klines"
   ]
  },
  {
   "cell_type": "code",
   "execution_count": null,
   "metadata": {},
   "outputs": [],
   "source": [
    "type(my_klines)"
   ]
  },
  {
   "cell_type": "code",
   "execution_count": null,
   "metadata": {},
   "outputs": [],
   "source": []
  },
  {
   "cell_type": "code",
   "execution_count": null,
   "metadata": {},
   "outputs": [],
   "source": []
  },
  {
   "cell_type": "code",
   "execution_count": null,
   "metadata": {},
   "outputs": [],
   "source": []
  },
  {
   "cell_type": "code",
   "execution_count": null,
   "metadata": {},
   "outputs": [],
   "source": []
  },
  {
   "cell_type": "code",
   "execution_count": null,
   "metadata": {},
   "outputs": [],
   "source": []
  },
  {
   "cell_type": "code",
   "execution_count": null,
   "metadata": {},
   "outputs": [],
   "source": []
  },
  {
   "cell_type": "code",
   "execution_count": null,
   "metadata": {},
   "outputs": [],
   "source": []
  },
  {
   "cell_type": "code",
   "execution_count": null,
   "metadata": {},
   "outputs": [],
   "source": []
  }
 ],
 "metadata": {
  "kernelspec": {
   "display_name": "anansi_",
   "language": "python",
   "name": "anansi_"
  },
  "language_info": {
   "codemirror_mode": {
    "name": "ipython",
    "version": 3
   },
   "file_extension": ".py",
   "mimetype": "text/x-python",
   "name": "python",
   "nbconvert_exporter": "python",
   "pygments_lexer": "ipython3",
   "version": "3.8.6"
  }
 },
 "nbformat": 4,
 "nbformat_minor": 4
}
