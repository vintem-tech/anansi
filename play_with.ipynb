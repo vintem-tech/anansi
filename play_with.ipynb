{
 "cells": [
  {
   "cell_type": "markdown",
   "metadata": {},
   "source": [
    "## anansi_.marketdata.klines"
   ]
  },
  {
   "cell_type": "code",
   "execution_count": 1,
   "metadata": {},
   "outputs": [],
   "source": [
    "from anansi_.marketdata.klines import klines_getter\n",
    "from anansi_.marketdata.models import Market"
   ]
  },
  {
   "cell_type": "code",
   "execution_count": 2,
   "metadata": {},
   "outputs": [],
   "source": [
    "my_market = Market(broker_name=\"Binance\", ticker_symbol=\"BTCUSDT\")\n",
    "\n",
    "my_klines_getter = klines_getter(my_market)#, time_frame=\"6h\")"
   ]
  },
  {
   "cell_type": "code",
   "execution_count": 3,
   "metadata": {},
   "outputs": [],
   "source": []
  },
  {
   "cell_type": "code",
   "execution_count": null,
   "metadata": {},
   "outputs": [],
   "source": [
    "my_klines.apply_indicator.trend.price_from_kline()"
   ]
  },
  {
   "cell_type": "code",
   "execution_count": null,
   "metadata": {},
   "outputs": [],
   "source": [
    "class SetupSMA:\n",
    "    price_metrics = \"hlc3\"\n",
    "    number_samples = 20\n",
    "\n",
    "my_setup = SetupSMA()\n",
    "\n",
    "my_klines.apply_indicator.trend.simple_moving_average(my_setup)"
   ]
  },
  {
   "cell_type": "code",
   "execution_count": null,
   "metadata": {},
   "outputs": [],
   "source": [
    "my_klines"
   ]
  },
  {
   "cell_type": "code",
   "execution_count": null,
   "metadata": {},
   "outputs": [],
   "source": []
  },
  {
   "cell_type": "markdown",
   "metadata": {},
   "source": [
    "## anansi_.marketdata.brokers\n",
    "\n",
    "###  Exemplo com a Binance"
   ]
  },
  {
   "cell_type": "code",
   "execution_count": null,
   "metadata": {},
   "outputs": [],
   "source": [
    "from anansi_.marketdata.brokers import Binance\n",
    "\n",
    "my_broker = Binance()"
   ]
  },
  {
   "cell_type": "markdown",
   "metadata": {},
   "source": [
    "### Alguns atributos da exchange/broker"
   ]
  },
  {
   "cell_type": "code",
   "execution_count": null,
   "metadata": {},
   "outputs": [],
   "source": [
    "my_broker.base_endpoint, my_broker.DateTimeFmt, my_broker.DateTimeUnit"
   ]
  },
  {
   "cell_type": "markdown",
   "metadata": {},
   "source": [
    "### Verificando horário do servidor com broker.server_time()"
   ]
  },
  {
   "cell_type": "code",
   "execution_count": null,
   "metadata": {},
   "outputs": [],
   "source": [
    "import pendulum # Só para gerar o formato 'human readable', para exemplo\n",
    "\n",
    "server_time = dict(server_time_timestamp=my_broker.server_time(),\n",
    "                   server_time_human_readable=(\n",
    "                       pendulum.from_timestamp(my_broker.server_time()).to_datetime_string()\n",
    "                   )\n",
    "                  )\n",
    "\n",
    "server_time"
   ]
  },
  {
   "cell_type": "markdown",
   "metadata": {},
   "source": [
    "### Verificando se o limite de requests foi atingido"
   ]
  },
  {
   "cell_type": "code",
   "execution_count": null,
   "metadata": {},
   "outputs": [],
   "source": [
    "my_broker.was_request_limit_reached()"
   ]
  },
  {
   "cell_type": "markdown",
   "metadata": {},
   "source": [
    "### Finalmente, solicitando algumas klines"
   ]
  },
  {
   "cell_type": "code",
   "execution_count": null,
   "metadata": {
    "scrolled": true
   },
   "outputs": [],
   "source": [
    "my_klines = my_broker.get_klines(ticker_symbol=\"BTCUSDT\", time_frame=\"2h\")\n",
    "\n",
    "my_klines"
   ]
  },
  {
   "cell_type": "markdown",
   "metadata": {},
   "source": [
    "### Função get_broker\n",
    "\n",
    "É possível repetir todos os passos acima, desde que haja suporte para o broker (passado para a função 'get_broker' pelo parâmetro 'broker_name') instanciando um broker como mostrado abaixo (novamente tomando a binance como exemplo):"
   ]
  },
  {
   "cell_type": "code",
   "execution_count": null,
   "metadata": {},
   "outputs": [],
   "source": [
    "from anansi_.marketdata.brokers import get_broker\n",
    "\n",
    "my_broker = get_broker(broker_name=\"binance\")"
   ]
  },
  {
   "cell_type": "markdown",
   "metadata": {},
   "source": [
    "Testando as klines; esteja livre para repetir os passos anteriores :)"
   ]
  },
  {
   "cell_type": "code",
   "execution_count": null,
   "metadata": {},
   "outputs": [],
   "source": [
    "my_klines = my_broker.get_klines(ticker_symbol=\"BTCUSDT\", time_frame=\"2h\")\n",
    "\n",
    "my_klines"
   ]
  },
  {
   "cell_type": "code",
   "execution_count": null,
   "metadata": {},
   "outputs": [],
   "source": [
    "type(my_klines)"
   ]
  },
  {
   "cell_type": "code",
   "execution_count": null,
   "metadata": {},
   "outputs": [],
   "source": []
  }
 ],
 "metadata": {
  "kernelspec": {
   "display_name": "anansi_",
   "language": "python",
   "name": "anansi_"
  },
  "language_info": {
   "codemirror_mode": {
    "name": "ipython",
    "version": 3
   },
   "file_extension": ".py",
   "mimetype": "text/x-python",
   "name": "python",
   "nbconvert_exporter": "python",
   "pygments_lexer": "ipython3",
   "version": "3.8.6"
  }
 },
 "nbformat": 4,
 "nbformat_minor": 4
}
