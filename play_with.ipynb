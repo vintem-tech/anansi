{
 "cells": [
  {
   "cell_type": "code",
   "execution_count": null,
   "metadata": {},
   "outputs": [],
   "source": []
  },
  {
   "cell_type": "code",
   "execution_count": null,
   "metadata": {},
   "outputs": [],
   "source": []
  },
  {
   "cell_type": "markdown",
   "metadata": {},
   "source": [
    "## anansi_.marketdata.klines"
   ]
  },
  {
   "cell_type": "code",
   "execution_count": 1,
   "metadata": {},
   "outputs": [],
   "source": [
    "from anansi_.marketdata.klines import klines_getter\n",
    "from anansi_.marketdata.models import Market"
   ]
  },
  {
   "cell_type": "code",
   "execution_count": 2,
   "metadata": {},
   "outputs": [],
   "source": [
    "my_market = Market(broker_name=\"Binance\", ticker_symbol=\"ETHUSDT\", time_frame=\"2h\")\n",
    "\n",
    "\n",
    "my_klines_getter = klines_getter(my_market)"
   ]
  },
  {
   "cell_type": "code",
   "execution_count": 3,
   "metadata": {},
   "outputs": [],
   "source": [
    "my_klines = my_klines_getter.newest(1367)"
   ]
  },
  {
   "cell_type": "code",
   "execution_count": 5,
   "metadata": {},
   "outputs": [],
   "source": [
    "my_klines.apply_indicator.trend.price_from_kline()"
   ]
  },
  {
   "cell_type": "code",
   "execution_count": 9,
   "metadata": {},
   "outputs": [],
   "source": [
    "class SetupSMA:\n",
    "    price_metrics = \"hlc3\"\n",
    "    number_samples = 20\n",
    "\n",
    "my_setup = SetupSMA()\n",
    "\n",
    "my_klines.apply_indicator.trend.simple_moving_average(my_setup)"
   ]
  },
  {
   "cell_type": "code",
   "execution_count": 10,
   "metadata": {},
   "outputs": [
    {
     "data": {
      "text/html": [
       "<div>\n",
       "<style scoped>\n",
       "    .dataframe tbody tr th:only-of-type {\n",
       "        vertical-align: middle;\n",
       "    }\n",
       "\n",
       "    .dataframe tbody tr th {\n",
       "        vertical-align: top;\n",
       "    }\n",
       "\n",
       "    .dataframe thead th {\n",
       "        text-align: right;\n",
       "    }\n",
       "</style>\n",
       "<table border=\"1\" class=\"dataframe\">\n",
       "  <thead>\n",
       "    <tr style=\"text-align: right;\">\n",
       "      <th></th>\n",
       "      <th>Open_time</th>\n",
       "      <th>Open</th>\n",
       "      <th>High</th>\n",
       "      <th>Low</th>\n",
       "      <th>Close</th>\n",
       "      <th>Volume</th>\n",
       "      <th>Price</th>\n",
       "      <th>SMA_20</th>\n",
       "    </tr>\n",
       "  </thead>\n",
       "  <tbody>\n",
       "    <tr>\n",
       "      <th>0</th>\n",
       "      <td>2020-07-29 00:00:00</td>\n",
       "      <td>316.77</td>\n",
       "      <td>318.82</td>\n",
       "      <td>312.38</td>\n",
       "      <td>315.23</td>\n",
       "      <td>57152.40884</td>\n",
       "      <td>315.476667</td>\n",
       "      <td>NaN</td>\n",
       "    </tr>\n",
       "    <tr>\n",
       "      <th>1</th>\n",
       "      <td>2020-07-29 02:00:00</td>\n",
       "      <td>315.22</td>\n",
       "      <td>317.74</td>\n",
       "      <td>314.36</td>\n",
       "      <td>316.48</td>\n",
       "      <td>41062.98672</td>\n",
       "      <td>316.193333</td>\n",
       "      <td>NaN</td>\n",
       "    </tr>\n",
       "    <tr>\n",
       "      <th>2</th>\n",
       "      <td>2020-07-29 04:00:00</td>\n",
       "      <td>316.48</td>\n",
       "      <td>319.40</td>\n",
       "      <td>314.12</td>\n",
       "      <td>318.07</td>\n",
       "      <td>56046.61470</td>\n",
       "      <td>317.196667</td>\n",
       "      <td>NaN</td>\n",
       "    </tr>\n",
       "    <tr>\n",
       "      <th>3</th>\n",
       "      <td>2020-07-29 06:00:00</td>\n",
       "      <td>318.05</td>\n",
       "      <td>322.76</td>\n",
       "      <td>317.63</td>\n",
       "      <td>321.11</td>\n",
       "      <td>99787.99796</td>\n",
       "      <td>320.500000</td>\n",
       "      <td>NaN</td>\n",
       "    </tr>\n",
       "    <tr>\n",
       "      <th>4</th>\n",
       "      <td>2020-07-29 08:00:00</td>\n",
       "      <td>321.10</td>\n",
       "      <td>325.00</td>\n",
       "      <td>319.25</td>\n",
       "      <td>320.85</td>\n",
       "      <td>107879.82237</td>\n",
       "      <td>321.700000</td>\n",
       "      <td>NaN</td>\n",
       "    </tr>\n",
       "    <tr>\n",
       "      <th>...</th>\n",
       "      <td>...</td>\n",
       "      <td>...</td>\n",
       "      <td>...</td>\n",
       "      <td>...</td>\n",
       "      <td>...</td>\n",
       "      <td>...</td>\n",
       "      <td>...</td>\n",
       "      <td>...</td>\n",
       "    </tr>\n",
       "    <tr>\n",
       "      <th>1362</th>\n",
       "      <td>2020-11-19 12:00:00</td>\n",
       "      <td>473.47</td>\n",
       "      <td>476.93</td>\n",
       "      <td>472.00</td>\n",
       "      <td>476.24</td>\n",
       "      <td>95450.77545</td>\n",
       "      <td>475.056667</td>\n",
       "      <td>476.035000</td>\n",
       "    </tr>\n",
       "    <tr>\n",
       "      <th>1363</th>\n",
       "      <td>2020-11-19 14:00:00</td>\n",
       "      <td>476.21</td>\n",
       "      <td>478.44</td>\n",
       "      <td>473.52</td>\n",
       "      <td>475.52</td>\n",
       "      <td>100173.08296</td>\n",
       "      <td>475.826667</td>\n",
       "      <td>475.802667</td>\n",
       "    </tr>\n",
       "    <tr>\n",
       "      <th>1364</th>\n",
       "      <td>2020-11-19 16:00:00</td>\n",
       "      <td>475.51</td>\n",
       "      <td>477.04</td>\n",
       "      <td>473.22</td>\n",
       "      <td>474.76</td>\n",
       "      <td>63567.08465</td>\n",
       "      <td>475.006667</td>\n",
       "      <td>475.263167</td>\n",
       "    </tr>\n",
       "    <tr>\n",
       "      <th>1365</th>\n",
       "      <td>2020-11-19 18:00:00</td>\n",
       "      <td>474.74</td>\n",
       "      <td>476.59</td>\n",
       "      <td>471.31</td>\n",
       "      <td>474.10</td>\n",
       "      <td>46355.68576</td>\n",
       "      <td>474.000000</td>\n",
       "      <td>474.655167</td>\n",
       "    </tr>\n",
       "    <tr>\n",
       "      <th>1366</th>\n",
       "      <td>2020-11-19 20:00:00</td>\n",
       "      <td>474.07</td>\n",
       "      <td>476.52</td>\n",
       "      <td>471.62</td>\n",
       "      <td>472.47</td>\n",
       "      <td>40836.65156</td>\n",
       "      <td>473.536667</td>\n",
       "      <td>474.633167</td>\n",
       "    </tr>\n",
       "  </tbody>\n",
       "</table>\n",
       "<p>1367 rows × 8 columns</p>\n",
       "</div>"
      ],
      "text/plain": [
       "                Open_time    Open    High     Low   Close        Volume  \\\n",
       "0     2020-07-29 00:00:00  316.77  318.82  312.38  315.23   57152.40884   \n",
       "1     2020-07-29 02:00:00  315.22  317.74  314.36  316.48   41062.98672   \n",
       "2     2020-07-29 04:00:00  316.48  319.40  314.12  318.07   56046.61470   \n",
       "3     2020-07-29 06:00:00  318.05  322.76  317.63  321.11   99787.99796   \n",
       "4     2020-07-29 08:00:00  321.10  325.00  319.25  320.85  107879.82237   \n",
       "...                   ...     ...     ...     ...     ...           ...   \n",
       "1362  2020-11-19 12:00:00  473.47  476.93  472.00  476.24   95450.77545   \n",
       "1363  2020-11-19 14:00:00  476.21  478.44  473.52  475.52  100173.08296   \n",
       "1364  2020-11-19 16:00:00  475.51  477.04  473.22  474.76   63567.08465   \n",
       "1365  2020-11-19 18:00:00  474.74  476.59  471.31  474.10   46355.68576   \n",
       "1366  2020-11-19 20:00:00  474.07  476.52  471.62  472.47   40836.65156   \n",
       "\n",
       "           Price      SMA_20  \n",
       "0     315.476667         NaN  \n",
       "1     316.193333         NaN  \n",
       "2     317.196667         NaN  \n",
       "3     320.500000         NaN  \n",
       "4     321.700000         NaN  \n",
       "...          ...         ...  \n",
       "1362  475.056667  476.035000  \n",
       "1363  475.826667  475.802667  \n",
       "1364  475.006667  475.263167  \n",
       "1365  474.000000  474.655167  \n",
       "1366  473.536667  474.633167  \n",
       "\n",
       "[1367 rows x 8 columns]"
      ]
     },
     "execution_count": 10,
     "metadata": {},
     "output_type": "execute_result"
    }
   ],
   "source": [
    "my_klines"
   ]
  },
  {
   "cell_type": "code",
   "execution_count": null,
   "metadata": {},
   "outputs": [],
   "source": []
  },
  {
   "cell_type": "code",
   "execution_count": null,
   "metadata": {},
   "outputs": [],
   "source": []
  },
  {
   "cell_type": "code",
   "execution_count": null,
   "metadata": {},
   "outputs": [],
   "source": []
  },
  {
   "cell_type": "code",
   "execution_count": null,
   "metadata": {},
   "outputs": [],
   "source": [
    "my_market.broker_name"
   ]
  },
  {
   "cell_type": "code",
   "execution_count": null,
   "metadata": {},
   "outputs": [],
   "source": []
  },
  {
   "cell_type": "code",
   "execution_count": null,
   "metadata": {},
   "outputs": [],
   "source": []
  },
  {
   "cell_type": "code",
   "execution_count": null,
   "metadata": {},
   "outputs": [],
   "source": []
  },
  {
   "cell_type": "code",
   "execution_count": null,
   "metadata": {},
   "outputs": [],
   "source": []
  },
  {
   "cell_type": "markdown",
   "metadata": {},
   "source": [
    "## anansi_.marketdata.brokers\n",
    "\n",
    "###  Exemplo com a Binance"
   ]
  },
  {
   "cell_type": "code",
   "execution_count": null,
   "metadata": {},
   "outputs": [],
   "source": [
    "from anansi_.marketdata.brokers import Binance\n",
    "\n",
    "my_broker = Binance()"
   ]
  },
  {
   "cell_type": "markdown",
   "metadata": {},
   "source": [
    "### Alguns atributos da exchange/broker"
   ]
  },
  {
   "cell_type": "code",
   "execution_count": null,
   "metadata": {},
   "outputs": [],
   "source": [
    "my_broker.base_endpoint, my_broker.DateTimeFmt, my_broker.DateTimeUnit"
   ]
  },
  {
   "cell_type": "markdown",
   "metadata": {},
   "source": [
    "### Verificando horário do servidor com broker.server_time()"
   ]
  },
  {
   "cell_type": "code",
   "execution_count": null,
   "metadata": {},
   "outputs": [],
   "source": [
    "import pendulum # Só para gerar o formato 'human readable', para exemplo\n",
    "\n",
    "server_time = dict(server_time_timestamp=my_broker.server_time(),\n",
    "                   server_time_human_readable=(\n",
    "                       pendulum.from_timestamp(my_broker.server_time()).to_datetime_string()\n",
    "                   )\n",
    "                  )\n",
    "\n",
    "server_time"
   ]
  },
  {
   "cell_type": "markdown",
   "metadata": {},
   "source": [
    "### Verificando se o limite de requests foi atingido"
   ]
  },
  {
   "cell_type": "code",
   "execution_count": null,
   "metadata": {},
   "outputs": [],
   "source": [
    "my_broker.was_request_limit_reached()"
   ]
  },
  {
   "cell_type": "markdown",
   "metadata": {},
   "source": [
    "### Finalmente, solicitando algumas klines"
   ]
  },
  {
   "cell_type": "code",
   "execution_count": null,
   "metadata": {
    "scrolled": true
   },
   "outputs": [],
   "source": [
    "my_klines = my_broker.get_klines(ticker_symbol=\"BTCUSDT\", time_frame=\"2h\")\n",
    "\n",
    "my_klines"
   ]
  },
  {
   "cell_type": "markdown",
   "metadata": {},
   "source": [
    "### Função get_broker\n",
    "\n",
    "É possível repetir todos os passos acima, desde que haja suporte para o broker (passado para a função 'get_broker' pelo parâmetro 'broker_name') instanciando um broker como mostrado abaixo (novamente tomando a binance como exemplo):"
   ]
  },
  {
   "cell_type": "code",
   "execution_count": null,
   "metadata": {},
   "outputs": [],
   "source": [
    "from anansi_.marketdata.brokers import get_broker\n",
    "\n",
    "my_broker = get_broker(broker_name=\"binance\")"
   ]
  },
  {
   "cell_type": "markdown",
   "metadata": {},
   "source": [
    "Testando com as klines; esteja livre para repetir os passos anteriores :)"
   ]
  },
  {
   "cell_type": "code",
   "execution_count": null,
   "metadata": {},
   "outputs": [],
   "source": [
    "my_klines = my_broker.get_klines(ticker_symbol=\"BTCUSDT\", time_frame=\"2h\")\n",
    "\n",
    "my_klines"
   ]
  },
  {
   "cell_type": "code",
   "execution_count": null,
   "metadata": {},
   "outputs": [],
   "source": [
    "type(my_klines)"
   ]
  },
  {
   "cell_type": "code",
   "execution_count": null,
   "metadata": {},
   "outputs": [],
   "source": []
  },
  {
   "cell_type": "code",
   "execution_count": null,
   "metadata": {},
   "outputs": [],
   "source": []
  },
  {
   "cell_type": "code",
   "execution_count": null,
   "metadata": {},
   "outputs": [],
   "source": []
  },
  {
   "cell_type": "code",
   "execution_count": null,
   "metadata": {},
   "outputs": [],
   "source": []
  },
  {
   "cell_type": "code",
   "execution_count": null,
   "metadata": {},
   "outputs": [],
   "source": []
  },
  {
   "cell_type": "code",
   "execution_count": null,
   "metadata": {},
   "outputs": [],
   "source": []
  },
  {
   "cell_type": "code",
   "execution_count": null,
   "metadata": {},
   "outputs": [],
   "source": []
  },
  {
   "cell_type": "code",
   "execution_count": null,
   "metadata": {},
   "outputs": [],
   "source": []
  }
 ],
 "metadata": {
  "kernelspec": {
   "display_name": "anansi_",
   "language": "python",
   "name": "anansi_"
  },
  "language_info": {
   "codemirror_mode": {
    "name": "ipython",
    "version": 3
   },
   "file_extension": ".py",
   "mimetype": "text/x-python",
   "name": "python",
   "nbconvert_exporter": "python",
   "pygments_lexer": "ipython3",
   "version": "3.8.6"
  }
 },
 "nbformat": 4,
 "nbformat_minor": 4
}
