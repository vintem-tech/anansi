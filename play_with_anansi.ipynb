{
 "cells": [
  {
   "cell_type": "code",
   "execution_count": null,
   "metadata": {},
   "outputs": [],
   "source": []
  },
  {
   "cell_type": "code",
   "execution_count": null,
   "metadata": {},
   "outputs": [],
   "source": []
  },
  {
   "cell_type": "code",
   "execution_count": null,
   "metadata": {},
   "outputs": [],
   "source": []
  },
  {
   "cell_type": "markdown",
   "metadata": {},
   "source": [
    "## anansi_.marketdata.brokers\n",
    "\n",
    "###  Exemplo com a Binance"
   ]
  },
  {
   "cell_type": "code",
   "execution_count": 1,
   "metadata": {},
   "outputs": [],
   "source": [
    "from anansi_.marketdata.brokers import Binance\n",
    "\n",
    "my_broker = Binance()"
   ]
  },
  {
   "cell_type": "markdown",
   "metadata": {},
   "source": [
    "### Alguns atributos da exchange/broker"
   ]
  },
  {
   "cell_type": "code",
   "execution_count": 2,
   "metadata": {},
   "outputs": [
    {
     "data": {
      "text/plain": [
       "('https://api.binance.com/api/v3/', 'timestamp', 'milliseconds')"
      ]
     },
     "execution_count": 2,
     "metadata": {},
     "output_type": "execute_result"
    }
   ],
   "source": [
    "my_broker.base_endpoint, my_broker.DateTimeFmt, my_broker.DateTimeUnit"
   ]
  },
  {
   "cell_type": "markdown",
   "metadata": {},
   "source": [
    "### Verificando horário do servidor com broker.server_time()"
   ]
  },
  {
   "cell_type": "code",
   "execution_count": 3,
   "metadata": {},
   "outputs": [
    {
     "data": {
      "text/plain": [
       "{'server_time_timestamp': 1605807956,\n",
       " 'server_time_human_readable': '2020-11-19 17:45:57'}"
      ]
     },
     "execution_count": 3,
     "metadata": {},
     "output_type": "execute_result"
    }
   ],
   "source": [
    "import pendulum # Só para gerar o formato 'human readable', para exemplo\n",
    "\n",
    "server_time = dict(server_time_timestamp=my_broker.server_time(),\n",
    "                   server_time_human_readable=(\n",
    "                       pendulum.from_timestamp(my_broker.server_time()).to_datetime_string()\n",
    "                   )\n",
    "                  )\n",
    "\n",
    "server_time"
   ]
  },
  {
   "cell_type": "markdown",
   "metadata": {},
   "source": [
    "### Verificando se o limite de requests foi atingido"
   ]
  },
  {
   "cell_type": "code",
   "execution_count": 5,
   "metadata": {},
   "outputs": [
    {
     "data": {
      "text/plain": [
       "False"
      ]
     },
     "execution_count": 5,
     "metadata": {},
     "output_type": "execute_result"
    }
   ],
   "source": [
    "my_broker.was_request_limit_reached()"
   ]
  },
  {
   "cell_type": "markdown",
   "metadata": {},
   "source": [
    "### Finalmente, solitando algumas klines"
   ]
  },
  {
   "cell_type": "code",
   "execution_count": 7,
   "metadata": {
    "scrolled": true
   },
   "outputs": [
    {
     "data": {
      "text/html": [
       "<div>\n",
       "<style scoped>\n",
       "    .dataframe tbody tr th:only-of-type {\n",
       "        vertical-align: middle;\n",
       "    }\n",
       "\n",
       "    .dataframe tbody tr th {\n",
       "        vertical-align: top;\n",
       "    }\n",
       "\n",
       "    .dataframe thead th {\n",
       "        text-align: right;\n",
       "    }\n",
       "</style>\n",
       "<table border=\"1\" class=\"dataframe\">\n",
       "  <thead>\n",
       "    <tr style=\"text-align: right;\">\n",
       "      <th></th>\n",
       "      <th>Open_time</th>\n",
       "      <th>Open</th>\n",
       "      <th>High</th>\n",
       "      <th>Low</th>\n",
       "      <th>Close</th>\n",
       "      <th>Volume</th>\n",
       "    </tr>\n",
       "  </thead>\n",
       "  <tbody>\n",
       "    <tr>\n",
       "      <th>0</th>\n",
       "      <td>1602208800</td>\n",
       "      <td>10899.52</td>\n",
       "      <td>10921.82</td>\n",
       "      <td>10880.00</td>\n",
       "      <td>10887.19</td>\n",
       "      <td>1799.976004</td>\n",
       "    </tr>\n",
       "    <tr>\n",
       "      <th>1</th>\n",
       "      <td>1602216000</td>\n",
       "      <td>10887.18</td>\n",
       "      <td>10893.00</td>\n",
       "      <td>10860.00</td>\n",
       "      <td>10862.56</td>\n",
       "      <td>1990.747774</td>\n",
       "    </tr>\n",
       "    <tr>\n",
       "      <th>2</th>\n",
       "      <td>1602223200</td>\n",
       "      <td>10862.56</td>\n",
       "      <td>10902.74</td>\n",
       "      <td>10829.00</td>\n",
       "      <td>10894.00</td>\n",
       "      <td>3064.435003</td>\n",
       "    </tr>\n",
       "    <tr>\n",
       "      <th>3</th>\n",
       "      <td>1602230400</td>\n",
       "      <td>10893.99</td>\n",
       "      <td>10897.94</td>\n",
       "      <td>10864.05</td>\n",
       "      <td>10876.74</td>\n",
       "      <td>2401.443615</td>\n",
       "    </tr>\n",
       "    <tr>\n",
       "      <th>4</th>\n",
       "      <td>1602237600</td>\n",
       "      <td>10876.73</td>\n",
       "      <td>11100.00</td>\n",
       "      <td>10870.89</td>\n",
       "      <td>11050.43</td>\n",
       "      <td>10141.829486</td>\n",
       "    </tr>\n",
       "    <tr>\n",
       "      <th>...</th>\n",
       "      <td>...</td>\n",
       "      <td>...</td>\n",
       "      <td>...</td>\n",
       "      <td>...</td>\n",
       "      <td>...</td>\n",
       "      <td>...</td>\n",
       "    </tr>\n",
       "    <tr>\n",
       "      <th>494</th>\n",
       "      <td>1605765600</td>\n",
       "      <td>17894.89</td>\n",
       "      <td>17907.00</td>\n",
       "      <td>17590.70</td>\n",
       "      <td>17649.94</td>\n",
       "      <td>6262.201972</td>\n",
       "    </tr>\n",
       "    <tr>\n",
       "      <th>495</th>\n",
       "      <td>1605772800</td>\n",
       "      <td>17650.03</td>\n",
       "      <td>17723.81</td>\n",
       "      <td>17335.65</td>\n",
       "      <td>17426.52</td>\n",
       "      <td>11444.789930</td>\n",
       "    </tr>\n",
       "    <tr>\n",
       "      <th>496</th>\n",
       "      <td>1605780000</td>\n",
       "      <td>17426.52</td>\n",
       "      <td>17778.04</td>\n",
       "      <td>17361.89</td>\n",
       "      <td>17765.33</td>\n",
       "      <td>10020.872853</td>\n",
       "    </tr>\n",
       "    <tr>\n",
       "      <th>497</th>\n",
       "      <td>1605787200</td>\n",
       "      <td>17765.32</td>\n",
       "      <td>18006.83</td>\n",
       "      <td>17653.24</td>\n",
       "      <td>18000.56</td>\n",
       "      <td>10275.089075</td>\n",
       "    </tr>\n",
       "    <tr>\n",
       "      <th>498</th>\n",
       "      <td>1605794400</td>\n",
       "      <td>18000.56</td>\n",
       "      <td>18179.80</td>\n",
       "      <td>17842.79</td>\n",
       "      <td>18045.00</td>\n",
       "      <td>11066.532703</td>\n",
       "    </tr>\n",
       "  </tbody>\n",
       "</table>\n",
       "<p>499 rows × 6 columns</p>\n",
       "</div>"
      ],
      "text/plain": [
       "      Open_time      Open      High       Low     Close        Volume\n",
       "0    1602208800  10899.52  10921.82  10880.00  10887.19   1799.976004\n",
       "1    1602216000  10887.18  10893.00  10860.00  10862.56   1990.747774\n",
       "2    1602223200  10862.56  10902.74  10829.00  10894.00   3064.435003\n",
       "3    1602230400  10893.99  10897.94  10864.05  10876.74   2401.443615\n",
       "4    1602237600  10876.73  11100.00  10870.89  11050.43  10141.829486\n",
       "..          ...       ...       ...       ...       ...           ...\n",
       "494  1605765600  17894.89  17907.00  17590.70  17649.94   6262.201972\n",
       "495  1605772800  17650.03  17723.81  17335.65  17426.52  11444.789930\n",
       "496  1605780000  17426.52  17778.04  17361.89  17765.33  10020.872853\n",
       "497  1605787200  17765.32  18006.83  17653.24  18000.56  10275.089075\n",
       "498  1605794400  18000.56  18179.80  17842.79  18045.00  11066.532703\n",
       "\n",
       "[499 rows x 6 columns]"
      ]
     },
     "execution_count": 7,
     "metadata": {},
     "output_type": "execute_result"
    }
   ],
   "source": [
    "my_klines = my_broker.get_klines(ticker_symbol=\"BTCUSDT\", time_frame=\"2h\")\n",
    "\n",
    "my_klines"
   ]
  },
  {
   "cell_type": "code",
   "execution_count": null,
   "metadata": {},
   "outputs": [],
   "source": []
  },
  {
   "cell_type": "code",
   "execution_count": null,
   "metadata": {},
   "outputs": [],
   "source": []
  },
  {
   "cell_type": "code",
   "execution_count": null,
   "metadata": {},
   "outputs": [],
   "source": []
  },
  {
   "cell_type": "code",
   "execution_count": null,
   "metadata": {},
   "outputs": [],
   "source": []
  },
  {
   "cell_type": "code",
   "execution_count": null,
   "metadata": {},
   "outputs": [],
   "source": []
  },
  {
   "cell_type": "code",
   "execution_count": null,
   "metadata": {},
   "outputs": [],
   "source": []
  },
  {
   "cell_type": "code",
   "execution_count": null,
   "metadata": {},
   "outputs": [],
   "source": []
  },
  {
   "cell_type": "code",
   "execution_count": null,
   "metadata": {},
   "outputs": [],
   "source": []
  }
 ],
 "metadata": {
  "kernelspec": {
   "display_name": "anansi_",
   "language": "python",
   "name": "anansi_"
  },
  "language_info": {
   "codemirror_mode": {
    "name": "ipython",
    "version": 3
   },
   "file_extension": ".py",
   "mimetype": "text/x-python",
   "name": "python",
   "nbconvert_exporter": "python",
   "pygments_lexer": "ipython3",
   "version": "3.8.6"
  }
 },
 "nbformat": 4,
 "nbformat_minor": 4
}
